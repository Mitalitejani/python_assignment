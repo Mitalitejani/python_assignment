{
 "cells": [
  {
   "cell_type": "code",
   "execution_count": 1,
   "id": "012bfbfe",
   "metadata": {},
   "outputs": [
    {
     "name": "stdout",
     "output_type": "stream",
     "text": [
      "Input a number 5\n",
      "{1: 1, 2: 4, 3: 9, 4: 16, 5: 25}\n"
     ]
    }
   ],
   "source": [
    "#1. Write a Python script to generate and print a dictionary that contains a number (between1 and n) in the form (x, x*x)\n",
    "# * Sample Dictionary ( n = 5) :\n",
    "# * Expected Output : {1: 1, 2: 4, 3: 9, 4: 16, 5: 25}\n",
    "\n",
    "n=int(input(\"Input a number \"))\n",
    "d = dict()\n",
    "\n",
    "for i in range(1,n+1):\n",
    "    d[i]=i*i\n",
    "\n",
    "print(d) "
   ]
  },
  {
   "cell_type": "code",
   "execution_count": 1,
   "id": "70e658e5",
   "metadata": {},
   "outputs": [
    {
     "name": "stdout",
     "output_type": "stream",
     "text": [
      "{'a': 400, 'b': 400, 'd': 400, 'c': 300}\n"
     ]
    }
   ],
   "source": [
    "# 2.Write a Python program to combine two dictionary adding values for common keys\n",
    "# * d1 = {'a': 100, 'b': 200, 'c':300}\n",
    "# * d2 = {'a': 300, 'b': 200, 'd':400}\n",
    "# * Sample output: Counter({'a': 400, 'b': 400, 'd': 400, 'c': 300})\n",
    "\n",
    "d1 = {'a': 100, 'b': 200, 'c':300}\n",
    "d2 = {'a': 300, 'b': 200, 'd':400}\n",
    "a = {}\n",
    "\n",
    "for i,j in d2.items():\n",
    "    a[i] = j\n",
    "for i,j in d1.items():\n",
    "    if i in a:\n",
    "        a[i]=a[i]+j\n",
    "    else:\n",
    "        a[i]=j\n",
    "print(a)"
   ]
  },
  {
   "cell_type": "code",
   "execution_count": 56,
   "id": "8edc152f",
   "metadata": {},
   "outputs": [
    {
     "name": "stdout",
     "output_type": "stream",
     "text": [
      "{'S005', 'S009', 'S007', 'S001', 'S002'}\n"
     ]
    }
   ],
   "source": [
    "# 3. Write a Python program to print all unique values in a dictionary\n",
    "# * Sample Data : [{\"V\":\"S001\"}, {\"V\": \"S002\"}, {\"VI\": \"S001\"}, {\"VI\": \"S005\"}, {\"VII\":\"S005\"}, {\"V\":\"S009\"},{\"VIII\":\"S007\"}]\n",
    "# * Expected Output : Unique Values: {'S005', 'S002', 'S007', 'S001', 'S009'}\n",
    "\n",
    "l = [{\"V\":\"S001\"}, {\"V\": \"S002\"}, {\"VI\": \"S001\"}, {\"VI\": \"S005\"}, {\"VII\":\"S005\"}, {\"V\":\"S009\"},{\"VIII\":\"S007\"}]\n",
    "a = []\n",
    "for i in l: \n",
    "    for j in i.values():\n",
    "        a.append(j)\n",
    "print(set(a))"
   ]
  },
  {
   "cell_type": "code",
   "execution_count": 64,
   "id": "ffde4a9d",
   "metadata": {},
   "outputs": [
    {
     "name": "stdout",
     "output_type": "stream",
     "text": [
      "ac\n",
      "ad\n",
      "bc\n",
      "bd\n"
     ]
    }
   ],
   "source": [
    "# 4.Write a Python program to create and display all combinations of letters, selecting each letter from a different key in \n",
    "# a dictionary. * Sample data : {'1':['a','b'], '2':['c','d']}\n",
    "# * Expected Output:  ac ad bc bd\n",
    "\n",
    "d = {1:['a','b'],2:['c','d']}\n",
    "for i in d[1]:\n",
    "    for j in d[2]:\n",
    "        print(i+j)"
   ]
  },
  {
   "cell_type": "code",
   "execution_count": 65,
   "id": "3c3cb291",
   "metadata": {},
   "outputs": [
    {
     "name": "stdout",
     "output_type": "stream",
     "text": [
      "enter a string: w3resorce\n",
      "{'w': 1, '3': 1, 'r': 2, 'e': 2, 's': 1, 'o': 1, 'c': 1}\n"
     ]
    }
   ],
   "source": [
    "# 5. Write a Python program to create a dictionary from a string.\n",
    "# * Note: Track the count of the letters from the string.\n",
    "# * Sample string : 'w3resource'\n",
    "# * Expected output: {'3': 1, 's': 1, 'r': 2, 'u': 1, 'w': 1, 'c': 1, 'e': 2, 'o': 1}\n",
    "\n",
    "s = input('enter a string: ')\n",
    "d = {}\n",
    "for i in s:\n",
    "    j = s.count(i)\n",
    "    d.update({i:j})\n",
    "print(d)"
   ]
  },
  {
   "cell_type": "code",
   "execution_count": 24,
   "id": "086e4375",
   "metadata": {},
   "outputs": [
    {
     "name": "stdout",
     "output_type": "stream",
     "text": [
      "2 dictionries have success as True.\n"
     ]
    }
   ],
   "source": [
    "# 6. Write a Python program to count the values associated with key in a dictionary.\n",
    "# * Sample data: = [{'id': 1, 'success': True, 'name': 'Lary'}, {'id': 2, 'success': False, 'name': \n",
    "#   'Rabi'}, {'id': 3, 'success': True, 'name': 'Alex'}]\n",
    "# * Expected result: Count of how many dictionaries have success as True\n",
    "\n",
    "l = [{'id': 1, 'success': True, 'name': 'Lary'}, {'id': 2, 'success': False, 'name': 'Rabi'}, {'id': 3, 'success': True, 'name': 'Alex'}]\n",
    "a = 0\n",
    "for i in l:\n",
    "    if i['success']==1:\n",
    "        a += 1\n",
    "print(a, 'dictionries have success as True.')"
   ]
  },
  {
   "cell_type": "code",
   "execution_count": null,
   "id": "a6e0d907",
   "metadata": {},
   "outputs": [],
   "source": [
    "# 7. Write a Python program to convert a list into a nested dictionary of keys\n",
    "\n",
    "l = [1,2,3,4]"
   ]
  },
  {
   "cell_type": "code",
   "execution_count": 40,
   "id": "5fb07eff",
   "metadata": {},
   "outputs": [
    {
     "name": "stdout",
     "output_type": "stream",
     "text": [
      "{'l1': ['a', 'd', 'f']}\n",
      "{'l2': ['e', 'h', 'w']}\n",
      "{'l3': ['a', 'c', 'g']}\n"
     ]
    }
   ],
   "source": [
    "# 8. Write a Python program to sort a list alphabetically in a dictionary.\n",
    "\n",
    "\n",
    "dict ={'l1':['d','a','f'],'l2':['h','w','e'],'l3':['a','g','c'],}\n",
    " \n",
    "for i, j in dict.items():\n",
    "    a ={i:sorted(j)}\n",
    "    print(a)"
   ]
  },
  {
   "cell_type": "code",
   "execution_count": 85,
   "id": "cf888528",
   "metadata": {},
   "outputs": [
    {
     "name": "stdout",
     "output_type": "stream",
     "text": [
      "[('Chemistry', 87), ('Physics', 83), ('Math', 81)]\n"
     ]
    }
   ],
   "source": [
    "# 9. Write a Python program to sort Counter by value.\n",
    "# * Sample data : {'Math':81, 'Physics':83, 'Chemistry':87}\n",
    "# * Expected data: [('Chemistry', 87), ('Physics', 83), ('Math', 81)]\n",
    "\n",
    "d = {'Math':81, 'Physics':83, 'Chemistry':87}\n",
    "\n",
    "s = sorted(d.items(), key=lambda a : a[1],reverse=True)\n",
    "print(s)"
   ]
  },
  {
   "cell_type": "code",
   "execution_count": 89,
   "id": "ffdf0c3e",
   "metadata": {},
   "outputs": [
    {
     "name": "stdout",
     "output_type": "stream",
     "text": [
      "key1 1 is present in both x and y\n"
     ]
    }
   ],
   "source": [
    "# 10. Write a Python program to match key values in two dictionaries. Go to the editor\n",
    "# * Sample dictionary: {'key1': 1, 'key2': 3, 'key3': 2}, {'key1': 1, 'key2': 2}\n",
    "# * Expected output: key1: 1 is present in both x and y\n",
    "\n",
    "x = {'key1': 1, 'key2': 3, 'key3': 2}\n",
    "y = {'key1': 1, 'key2': 2}\n",
    "\n",
    "for i,j in x.items():\n",
    "    for a,b in y.items():\n",
    "        if {i:j} == {a:b}:\n",
    "            print(i,j, 'is present in both x and y')"
   ]
  },
  {
   "cell_type": "code",
   "execution_count": 91,
   "id": "73d50790",
   "metadata": {},
   "outputs": [
    {
     "name": "stdout",
     "output_type": "stream",
     "text": [
      "list is not empty.\n"
     ]
    }
   ],
   "source": [
    "# 11. Write a Python program to check a list is empty or not.\n",
    "\n",
    "l = [1,2]\n",
    "if len(l)==0:\n",
    "    print('list is empty.')\n",
    "else:\n",
    "    print('list is not empty.')"
   ]
  },
  {
   "cell_type": "code",
   "execution_count": 93,
   "id": "5077e97d",
   "metadata": {},
   "outputs": [
    {
     "name": "stdout",
     "output_type": "stream",
     "text": [
      "[1, 2, 3, 5, 6, 24]\n"
     ]
    }
   ],
   "source": [
    "# 12. Write a Python program to remove duplicates from a list.\n",
    "\n",
    "l = [1,3,5,6,24,2,3,1,3]\n",
    "a = set(l)\n",
    "print(list(a))"
   ]
  },
  {
   "cell_type": "code",
   "execution_count": 121,
   "id": "2c2d3879",
   "metadata": {},
   "outputs": [
    {
     "data": {
      "text/plain": [
       "'true'"
      ]
     },
     "execution_count": 121,
     "metadata": {},
     "output_type": "execute_result"
    }
   ],
   "source": [
    "# 13. Write a Python function that takes two lists and returns True if they have at least one common member\n",
    "\n",
    "l1 = [1,2,3,4]\n",
    "l2 = [5,6,1,3]\n",
    "\n",
    "def func():\n",
    "    for i in l1:\n",
    "        for j in l2:\n",
    "            if i == j:\n",
    "                return 'true'\n",
    "    return 'false'\n",
    "func()"
   ]
  },
  {
   "cell_type": "code",
   "execution_count": 123,
   "id": "cbc24574",
   "metadata": {},
   "outputs": [
    {
     "name": "stdout",
     "output_type": "stream",
     "text": [
      "[10, 15, 20, 30]\n"
     ]
    }
   ],
   "source": [
    "# 14. Write a Python program to get the difference between the two lists.\n",
    "\n",
    "l1 = [10, 15, 20, 25, 30, 35, 40]\n",
    "l2 = [25, 40, 35]\n",
    " \n",
    "a = []\n",
    "for i in l1:\n",
    "    if i not in l2:\n",
    "        a.append(i)\n",
    "print(a)"
   ]
  },
  {
   "cell_type": "code",
   "execution_count": 128,
   "id": "d433d75f",
   "metadata": {},
   "outputs": [
    {
     "name": "stdout",
     "output_type": "stream",
     "text": [
      "3\n"
     ]
    }
   ],
   "source": [
    "# 15. Write a Python program to find the second smallest number in a list.\n",
    "\n",
    "l = [23,2,13,42,53,3]\n",
    "l.sort()\n",
    "print(l[1])"
   ]
  },
  {
   "cell_type": "code",
   "execution_count": 130,
   "id": "45275c07",
   "metadata": {},
   "outputs": [
    {
     "name": "stdout",
     "output_type": "stream",
     "text": [
      "42\n"
     ]
    }
   ],
   "source": [
    "# 16. Write a Python program to find the second largest number in a list.\n",
    "\n",
    "l = [23,2,13,42,53,3]\n",
    "l.sort()\n",
    "print(l[-2])"
   ]
  },
  {
   "cell_type": "code",
   "execution_count": 133,
   "id": "7a21a876",
   "metadata": {},
   "outputs": [
    {
     "name": "stdout",
     "output_type": "stream",
     "text": [
      "{10: 4, 20: 3, 30: 2}\n"
     ]
    }
   ],
   "source": [
    "# 17. Write a Python program to get the frequency of the elements in a list.\n",
    "l = [10,20,30,10,20,30,10,10,20]\n",
    "d = {}\n",
    "for i in l:\n",
    "    j = l.count(i)\n",
    "    d.update({i:j})\n",
    "print(d)"
   ]
  },
  {
   "cell_type": "code",
   "execution_count": 147,
   "id": "8dd6455a",
   "metadata": {},
   "outputs": [
    {
     "name": "stdout",
     "output_type": "stream",
     "text": [
      "113350"
     ]
    }
   ],
   "source": [
    "# 18. Write a Python program to convert a list of multiple integers into a single integer\n",
    "# * Sample list: [11, 33, 50]\n",
    "# * Expected Output: 113350\n",
    "\n",
    "l = [11,33,50]\n",
    "\n",
    "for i in l:\n",
    "    print(i,end='')"
   ]
  },
  {
   "cell_type": "code",
   "execution_count": 9,
   "id": "4bfc4564",
   "metadata": {},
   "outputs": [
    {
     "name": "stdout",
     "output_type": "stream",
     "text": [
      "color1-color2 :  ['orange', 'white', 'red']\n",
      "color2-color1 :  ['yellow', 'black']\n"
     ]
    }
   ],
   "source": [
    "# 19. Write a Python program to compute the similarity between two lists.\n",
    "# * Sample data: [\"red\", \"orange\", \"green\", \"blue\", \"white\"], [\"black\", \"yellow\", \"green\", \"blue\"]\n",
    "# * Expected Output: Color1-Color2: ['white', 'orange', 'red']\n",
    "#                    Color2-Color1: ['black', 'yellow']\n",
    "\n",
    "l1 = [\"red\", \"orange\", \"green\", \"blue\", \"white\"]\n",
    "l2 = [\"black\", \"yellow\", \"green\", \"blue\"]\n",
    "s1 = set(l1).difference(set(l2))\n",
    "print('color1-color2 : ',list(s1))\n",
    "s2 = set(l2).difference(set(l1))\n",
    "print('color2-color1 : ',list(s2))"
   ]
  },
  {
   "cell_type": "code",
   "execution_count": 21,
   "id": "1ebf4a37",
   "metadata": {},
   "outputs": [
    {
     "data": {
      "text/plain": [
       "'true'"
      ]
     },
     "execution_count": 21,
     "metadata": {},
     "output_type": "execute_result"
    }
   ],
   "source": [
    "# 20. Write a Python program to check if all dictionaries in a list are empty or not.\n",
    "#  * Sample list : [{},{},{}]\n",
    "#  * Return value : True\n",
    "#  * Sample list : [{1:2},{},{}]\n",
    "#  * Return value : False\n",
    "\n",
    "l1 = [{},{},{}]\n",
    "\n",
    "def fun(i):\n",
    "    for i in l1:\n",
    "        if i == dict():\n",
    "            return 'true'\n",
    "        return 'false'\n",
    "        \n",
    "fun(l1)"
   ]
  },
  {
   "cell_type": "code",
   "execution_count": 25,
   "id": "84aff703",
   "metadata": {},
   "outputs": [
    {
     "name": "stdout",
     "output_type": "stream",
     "text": [
      "{'g': 2, 'o': 3, 'l': 1, 'e': 1, '.': 1, 'c': 1, 'm': 1}\n"
     ]
    }
   ],
   "source": [
    "# 21. Write a Python program to count the number of characters (character frequency) in a \n",
    "# string \n",
    "#  * Sample String : google.com'\n",
    "#  * Expected Result : {'o': 3, 'g': 2, '.': 1, 'e': 1, 'l': 1, 'm': 1, 'c': 1}\n",
    "\n",
    "s = 'google.com'\n",
    "d = {}\n",
    "for i in s:\n",
    "    j = s.count(i)\n",
    "    d.update({i:j})\n",
    "print(d)"
   ]
  },
  {
   "cell_type": "code",
   "execution_count": 29,
   "id": "3d31646b",
   "metadata": {},
   "outputs": [
    {
     "data": {
      "text/plain": [
       "'resta$t'"
      ]
     },
     "execution_count": 29,
     "metadata": {},
     "output_type": "execute_result"
    }
   ],
   "source": [
    "# 22. Write a Python program to get a string from a given string where all occurrences of its \n",
    "# first char have been changed to '$' ,except the first char itself\n",
    "#  * Sample String : 'restart'\n",
    "#  * Expected Result : 'resta$t'\n",
    "\n",
    "def char(s):\n",
    "    c = s[0]\n",
    "    s = s.replace(c,'$')\n",
    "    p = c + s[1:]\n",
    "    return p\n",
    "\n",
    "char('restart')"
   ]
  },
  {
   "cell_type": "code",
   "execution_count": 32,
   "id": "b88d971d",
   "metadata": {},
   "outputs": [
    {
     "data": {
      "text/plain": [
       "('organized', 9)"
      ]
     },
     "execution_count": 32,
     "metadata": {},
     "output_type": "execute_result"
    }
   ],
   "source": [
    "#23. Write a Python function that takes a list of words and returns the length of the longest one.\n",
    "\n",
    "def length(s):\n",
    "    l=0\n",
    "    for i in lis:\n",
    "        if len(i)>l:\n",
    "            l=len(i)\n",
    "            a=i\n",
    "    \n",
    "    return a,l \n",
    "\n",
    "lis=['function','is','a','block','of','organized']\n",
    "length(lis)"
   ]
  },
  {
   "cell_type": "code",
   "execution_count": 5,
   "id": "ca799f2c",
   "metadata": {},
   "outputs": [
    {
     "name": "stdout",
     "output_type": "stream",
     "text": [
      "python - 2\n",
      "is - 2\n",
      "a - 8\n",
      "high-level - 1\n",
      "programming - 2\n",
      "language. - 2\n",
      "python - 2\n",
      "is - 2\n",
      "popular - 1\n",
      "programming - 2\n",
      "language. - 2\n"
     ]
    }
   ],
   "source": [
    "#24. Write a Python program to count the occurrences of each word in a given sentence.\n",
    "\n",
    "a='python is a high-level programming language. python is popular programming language.'\n",
    "for i in a.split():\n",
    "    print(i,'-',a.count(i))"
   ]
  },
  {
   "cell_type": "code",
   "execution_count": 6,
   "id": "468c5b12",
   "metadata": {},
   "outputs": [
    {
     "name": "stdout",
     "output_type": "stream",
     "text": [
      "Python\n",
      "PYTHON\n"
     ]
    }
   ],
   "source": [
    "#25. Write a Python function to convert a given string to all uppercase if it contains at least 2 uppercase characters in \n",
    "# the first 4 characters.\n",
    "\n",
    "def ucase(s):\n",
    "    n = 0\n",
    "    for i in s[:4]: \n",
    "        if i.upper() == i:\n",
    "            n += 1\n",
    "    if n >= 2:\n",
    "        return s.upper()\n",
    "    return s\n",
    "\n",
    "print(ucase('Python'))\n",
    "print(ucase('PyThon'))"
   ]
  },
  {
   "cell_type": "code",
   "execution_count": 2,
   "id": "c390c39d",
   "metadata": {},
   "outputs": [
    {
     "name": "stdout",
     "output_type": "stream",
     "text": [
      "2\n"
     ]
    }
   ],
   "source": [
    "#26. Write a Python program to count and display the vowels of a given text\n",
    "\n",
    "s=\"tanvi\"\n",
    "l=['a','e','i','o','u','A','E','I','O','U']\n",
    "count=0\n",
    "for i in s:\n",
    "    if i in l:\n",
    "        count += 1\n",
    "print(count)"
   ]
  },
  {
   "cell_type": "code",
   "execution_count": 4,
   "id": "85ee74c3",
   "metadata": {},
   "outputs": [
    {
     "name": "stdout",
     "output_type": "stream",
     "text": [
      "('string', True, False, 3.2, 1)\n"
     ]
    }
   ],
   "source": [
    "#27. Write a Python program to create a tuple with different data types.\n",
    "\n",
    "t = (\"string\",True, False, 3.2, 1)\n",
    "print(t)"
   ]
  },
  {
   "cell_type": "code",
   "execution_count": 5,
   "id": "dde52240",
   "metadata": {},
   "outputs": [
    {
     "name": "stdout",
     "output_type": "stream",
     "text": [
      "(1, 2, 3, 4, 5, 6, 7, 8, 30)\n"
     ]
    }
   ],
   "source": [
    "#28. Write a Python program to add an item in a tuple\n",
    "\n",
    "t = (1,2,3,4,5,6,7,8)\n",
    "l = list(t) \n",
    "l.append(30)\n",
    "t = tuple(l)\n",
    "print(t)"
   ]
  },
  {
   "cell_type": "code",
   "execution_count": 7,
   "id": "22d7a35d",
   "metadata": {},
   "outputs": [
    {
     "name": "stdout",
     "output_type": "stream",
     "text": [
      "mfwkd\n"
     ]
    }
   ],
   "source": [
    "#29. Write a Python program to convert a tuple to a string.\n",
    "\n",
    "def convert(t):\n",
    "    str = ''\n",
    "    for i in t:\n",
    "        str += ''.join(i)\n",
    "    return str\n",
    " \n",
    "t = ('m','f','w','k','d')\n",
    "str = convert(t)\n",
    "print(str)"
   ]
  },
  {
   "cell_type": "code",
   "execution_count": 8,
   "id": "13aaeb56",
   "metadata": {},
   "outputs": [
    {
     "name": "stdout",
     "output_type": "stream",
     "text": [
      "[1, 4, 1, 1, 1, 4]\n",
      "(1, 4)\n"
     ]
    }
   ],
   "source": [
    "#30. Write a Python program to find the repeated items of a tuple\n",
    "\n",
    "tup=(1,3,4,32,1,1,1,4)  \n",
    "c=[]\n",
    "for i in tup:\n",
    "    if tup.count(i) > 1:\n",
    "        c.append(i)\n",
    "print(c)\n",
    "a= set(c)\n",
    "print(tuple(a))"
   ]
  },
  {
   "cell_type": "code",
   "execution_count": 9,
   "id": "02c6ac70",
   "metadata": {},
   "outputs": [
    {
     "name": "stdout",
     "output_type": "stream",
     "text": [
      "9\n"
     ]
    }
   ],
   "source": [
    "#31. Write a Python program to find the length of a tuple.\n",
    "\n",
    "t=(1,2,3,'t','u','p','l','e','tuple')\n",
    "length=len(t)\n",
    "print(length)"
   ]
  },
  {
   "cell_type": "code",
   "execution_count": 11,
   "id": "924dc164",
   "metadata": {},
   "outputs": [
    {
     "name": "stdout",
     "output_type": "stream",
     "text": [
      "{'name': 'mitali', 'age': 20}\n"
     ]
    }
   ],
   "source": [
    "#32. Write a Python program to convert a tuple to a dictionary.\n",
    "\n",
    "li=[('name','mitali'),('age',20)]\n",
    "dic=dict(li)\n",
    "print(dic)"
   ]
  },
  {
   "cell_type": "code",
   "execution_count": 18,
   "id": "2e6fee44",
   "metadata": {},
   "outputs": [
    {
     "name": "stdout",
     "output_type": "stream",
     "text": [
      "[(10, 20, 100), (40, 50, 100), (70, 80, 100)]\n"
     ]
    }
   ],
   "source": [
    "#33. Write a Python program to replace last value of tuples in a list. \n",
    "# * Sample list: [(10, 20, 40), (40, 50, 60), (70, 80, 90)]\n",
    "# * Expected Output: [(10, 20, 100), (40, 50, 100), (70, 80, 100)]\n",
    "\n",
    "li=[(10,20,30),(40,50,60),(70,80,90)]\n",
    "l1 = []\n",
    "for i in li:\n",
    "    i= i[:-1]+(100,)\n",
    "    l1.append(i)\n",
    "print(l1)"
   ]
  },
  {
   "cell_type": "code",
   "execution_count": 10,
   "id": "d442a2c1",
   "metadata": {},
   "outputs": [
    {
     "data": {
      "text/plain": [
       "[(), (), ('',), ('a', 'b'), ('a', 'b', 'c'), 'd']"
      ]
     },
     "execution_count": 10,
     "metadata": {},
     "output_type": "execute_result"
    }
   ],
   "source": [
    "@@@@@@@@@@@@@@@@@@# 34. Write a Python program to replace last value of tuples in a list. \n",
    "#  * Sample data: [(), (), ('',), ('a', 'b'), ('a', 'b', 'c'), ('d')]\n",
    "#  * Expected output: [('',), ('a', 'b'), ('a', 'b', 'c'), 'd']\n",
    "\n",
    "l = [(), (), ('',), ('a', 'b'), ('a', 'b', 'c'), ('d')]\n",
    "list(l)"
   ]
  },
  {
   "cell_type": "code",
   "execution_count": 16,
   "id": "6acdd7a6",
   "metadata": {},
   "outputs": [
    {
     "name": "stdout",
     "output_type": "stream",
     "text": [
      "[('item3', '24.5'), ('item2', '15.10'), ('item1', '12.20')]\n"
     ]
    }
   ],
   "source": [
    "# 35. Write a Python program to sort a tuple by its float element.\n",
    "#  * Sample data: [('item1', '12.20'), ('item2', '15.10'), ('item3', '24.5')]\n",
    "#  * Expected Output: [('item3', '24.5'), ('item2', '15.10'), ('item1', '12.20')]\n",
    "\n",
    "l = [('item1', '12.20'), ('item2', '15.10'), ('item3', '24.5')]\n",
    "print( sorted(l, key=lambda x: float(x[1]), reverse=True))"
   ]
  },
  {
   "cell_type": "code",
   "execution_count": 26,
   "id": "df30619f",
   "metadata": {},
   "outputs": [
    {
     "name": "stdout",
     "output_type": "stream",
     "text": [
      "3\n"
     ]
    }
   ],
   "source": [
    "# 36. Write a Python program to count the elements in a list until an element is a tuple.\n",
    "\n",
    "num = [10,20,30,(10,20),40]\n",
    "count = 0\n",
    "for n in num:\n",
    "    if type(n) == tuple:\n",
    "        break\n",
    "    count += 1\n",
    "print(count)"
   ]
  },
  {
   "cell_type": "code",
   "execution_count": 50,
   "id": "69ed8cf4",
   "metadata": {},
   "outputs": [
    {
     "name": "stdout",
     "output_type": "stream",
     "text": [
      "using numbers\n",
      "0 1 2 3 4 5 \n",
      "using string\n",
      "3 e s r c w o u "
     ]
    }
   ],
   "source": [
    "# 37. Write a Python program to iteration over sets\n",
    "print('using numbers')\n",
    "n = set([0, 1, 2, 3, 4, 5])\n",
    "for i in n:\n",
    "    print(i, end=' ')\n",
    "\n",
    "print('\\nusing string')\n",
    "\n",
    "s = set(\"w3resource\")  \n",
    "for val in s:\n",
    "    print(val, end=' ')"
   ]
  },
  {
   "cell_type": "code",
   "execution_count": 32,
   "id": "9f154ac2",
   "metadata": {},
   "outputs": [
    {
     "name": "stdout",
     "output_type": "stream",
     "text": [
      "{'Lion', 'Cat'}\n",
      "Add single element :  {'Lion', 'Cat', 'Dog'}\n",
      "Add multiple items :  {'Dog', 'Lion', 'Cat', 'Ponda', 'Tiger'}\n"
     ]
    }
   ],
   "source": [
    "# 38. Write a Python program to add member(s) in a set\n",
    "\n",
    "animal = {\"Lion\",\"Cat\"}\n",
    "print(animal)\n",
    "animal.add(\"Dog\")\n",
    "print(\"Add single element : \",animal)\n",
    "animal.update([\"Panda\", \"Tiger\"])\n",
    "print(\"Add multiple items : \",animal)"
   ]
  },
  {
   "cell_type": "code",
   "execution_count": 48,
   "id": "e035fe51",
   "metadata": {},
   "outputs": [
    {
     "name": "stdout",
     "output_type": "stream",
     "text": [
      "Original set: {0, 1, 3, 4, 5}\n",
      "After removing : {1, 3, 4, 5}\n"
     ]
    }
   ],
   "source": [
    "# 39. Write a Python program to remove item(s) from set\n",
    "\n",
    "n = set([0, 1, 3, 4, 5])\n",
    "print(\"Original set:\",n)\n",
    "n.pop()\n",
    "print(\"After removing :\",n)\n"
   ]
  },
  {
   "cell_type": "code",
   "execution_count": 47,
   "id": "f7c55f1a",
   "metadata": {},
   "outputs": [
    {
     "name": "stdout",
     "output_type": "stream",
     "text": [
      "Original set elements: {0, 1, 2, 3, 4, 5}\n",
      "After removing : {0, 1, 2, 3, 5}\n"
     ]
    }
   ],
   "source": [
    "# 40. Write a Python program to remove an item from a set if it is present in the set.\n",
    "\n",
    "n = set([0, 1, 2, 3, 4, 5])\n",
    "print(\"Original set elements:\",n)\n",
    "n.discard(4)\n",
    "print(\"After removing :\",n)"
   ]
  },
  {
   "cell_type": "code",
   "execution_count": 43,
   "id": "410dee4a",
   "metadata": {},
   "outputs": [
    {
     "name": "stdout",
     "output_type": "stream",
     "text": [
      "intersection:  {'blue'}\n"
     ]
    }
   ],
   "source": [
    "# 41. Write a Python program to create an intersection of sets.\n",
    "\n",
    "x = set([\"green\", \"blue\"])\n",
    "y = set([\"blue\", \"yellow\"])\n",
    "i = x.intersection(y)\n",
    "print('intersection: ',i)"
   ]
  },
  {
   "cell_type": "code",
   "execution_count": 46,
   "id": "1b0319e4",
   "metadata": {},
   "outputs": [
    {
     "name": "stdout",
     "output_type": "stream",
     "text": [
      "x - y: {'green', 'yellow'}\n",
      "y - x: {'green', 'yellow'}\n"
     ]
    }
   ],
   "source": [
    "# 42. Write a Python program to create a symmetric difference\n",
    "\n",
    "x = set([\"green\", \"blue\"])\n",
    "y = set([\"blue\", \"yellow\"])\n",
    "r1 = x.symmetric_difference(y)\n",
    "print(\"x - y:\",r1)\n",
    "r2 = y.symmetric_difference(x)\n",
    "print(\"y - x:\",r2)"
   ]
  },
  {
   "cell_type": "code",
   "execution_count": 53,
   "id": "5ee800e9",
   "metadata": {},
   "outputs": [
    {
     "name": "stdout",
     "output_type": "stream",
     "text": [
      "max : 20\n",
      "min : 2\n"
     ]
    }
   ],
   "source": [
    "# 43. Write a Python program to find maximum and the minimum value in a set.\n",
    "\n",
    "s = {5, 10, 3, 15, 2, 20}\n",
    "print('max :',max(s))\n",
    "print('min :',min(s))"
   ]
  },
  {
   "cell_type": "code",
   "execution_count": 56,
   "id": "de8b63b1",
   "metadata": {},
   "outputs": [
    {
     "name": "stdout",
     "output_type": "stream",
     "text": [
      "5\n"
     ]
    }
   ],
   "source": [
    "# 44. Write a Python program to find the length of a set.\n",
    "\n",
    "s= {1,2,3,44,56}\n",
    "print(len(s))"
   ]
  },
  {
   "cell_type": "code",
   "execution_count": 64,
   "id": "0df818a3",
   "metadata": {},
   "outputs": [
    {
     "name": "stdout",
     "output_type": "stream",
     "text": [
      "* \n",
      "* * \n",
      "* * * \n",
      "* * * * \n",
      "* * * * * \n",
      "* * * *  \n",
      "* * *  \n",
      "* *  \n",
      "*  \n",
      " \n"
     ]
    }
   ],
   "source": [
    "# 45. Write a Python program to construct the following pattern, using a nested for loop. \n",
    "#  * \n",
    "#  * * \n",
    "#  * * * \n",
    "#  * * * * \n",
    "#  * * * * * \n",
    "#  * * * * \n",
    "#  * * * \n",
    "#  * * \n",
    "#  *\n",
    "\n",
    "n = 5\n",
    "for i in range(0, n):\n",
    "    for j in range(0, i + 1):\n",
    "        print(\"*\", end=' ')\n",
    "    print(\"\")\n",
    "\n",
    "for i in range(n, 0, -1):\n",
    "    for j in range(0, i - 1):\n",
    "        print(\"*\", end=' ')\n",
    "    print(\" \")"
   ]
  },
  {
   "cell_type": "code",
   "execution_count": 69,
   "id": "16a13069",
   "metadata": {},
   "outputs": [
    {
     "name": "stdout",
     "output_type": "stream",
     "text": [
      "Number of even numbers : 5\n",
      "Number of odd numbers : 4\n"
     ]
    }
   ],
   "source": [
    "# 46. Write a Python program to count the number of even and odd numbers from a series of numbers. \n",
    "#  * Sample numbers : numbers = (1, 2, 3, 4, 5, 6, 7, 8, 9) \n",
    "#  * Expected Output : Number of even numbers : 5\n",
    "#                      Number of odd numbers : 4\n",
    "\n",
    "numbers = (1, 2, 3, 4, 5, 6, 7, 8, 9) \n",
    "odd = 0\n",
    "even = 0\n",
    "for i in numbers:\n",
    "        if not i % 2 == 0:\n",
    "            even += 1\n",
    "        else:\n",
    "            odd += 1\n",
    "print(\"Number of even numbers :\",even)\n",
    "print(\"Number of odd numbers :\",odd)"
   ]
  },
  {
   "cell_type": "code",
   "execution_count": 1,
   "id": "676ac46e",
   "metadata": {},
   "outputs": [
    {
     "name": "stdout",
     "output_type": "stream",
     "text": [
      "0 1 2 4 5 "
     ]
    }
   ],
   "source": [
    "# 47. Write a Python program that prints all the numbers from 0 to 6 except 3 and 6.\n",
    "#  * Note : Use 'continue' statement. \n",
    "#  * Expected Output : 0 1 2 4 5\n",
    "\n",
    "for x in range(6):\n",
    "    if (x == 3 or x == 6):\n",
    "        continue\n",
    "    print(x,end=' ')"
   ]
  },
  {
   "cell_type": "code",
   "execution_count": 5,
   "id": "98c83c9d",
   "metadata": {},
   "outputs": [
    {
     "name": "stdout",
     "output_type": "stream",
     "text": [
      "0\n",
      "1\n",
      "1\n",
      "2\n",
      "3\n",
      "5\n",
      "8\n",
      "13\n",
      "21\n",
      "34\n"
     ]
    }
   ],
   "source": [
    "# 48. Write a Python program to get the Fibonacci series between 0 to 50. \n",
    "#     Note : The Fibonacci Sequence is the series of numbers : 0, 1, 1, 2, 3, 5, 8, 13, 21, .... \n",
    "#  * Every next number is found by adding up the two numbers before it.\n",
    "#  * Expected Output : 1 1 2 3 5 8 13 21 34\n",
    "\n",
    "n1 = 0\n",
    "n2 = 1\n",
    "print(n1)\n",
    "print(n2)\n",
    "for i in range (1,9):\n",
    "    fs = n1+n2\n",
    "    print(fs)\n",
    "    n1=n2\n",
    "    n2=fs"
   ]
  },
  {
   "cell_type": "code",
   "execution_count": 23,
   "id": "fea7bac9",
   "metadata": {},
   "outputs": [
    {
     "name": "stdout",
     "output_type": "stream",
     "text": [
      "enter rows : 3\n",
      "enter columns : 4\n",
      "[[0, 0, 0, 0], [0, 1, 2, 3], [0, 2, 4, 6]]\n"
     ]
    }
   ],
   "source": [
    "# 49. Write a Python program which takes two digits m (row) and n (column) as input and \n",
    "# generates a two-dimensional array. The element value in the i-th row and j-th column of the \n",
    "# array should be i*j. \n",
    "# Note :\n",
    "#  * i = 0,1.., m-1 \n",
    "#  * j = 0,1, n-1.\n",
    "#  * Test Data : Rows = 3, Columns = 4 \n",
    "#  * Expected Result : [[0, 0, 0, 0], [0, 1, 2, 3], [0, 2, 4, 6]]\n",
    "\n",
    "m=int(input(\"enter rows : \"))\n",
    "n=int(input(\"enter columns : \"))\n",
    "b = []\n",
    "for i in range(m):\n",
    "    a = []\n",
    "    for j in range(n):\n",
    "        a.append(i*j)\n",
    "    b.append(a)\n",
    "\n",
    "print(b)"
   ]
  },
  {
   "cell_type": "code",
   "execution_count": 28,
   "id": "8cc213da",
   "metadata": {},
   "outputs": [
    {
     "name": "stdout",
     "output_type": "stream",
     "text": [
      "200,202,204,206,208,220,222,224,226,228,240,242,244,246,248,260,262,264,266,268,280,282,284,286,288,400\n"
     ]
    }
   ],
   "source": [
    "# 50. Write a Python program to find numbers between 100 and 400 (both included) where \n",
    "# each digit of a number is an even number. The numbers obtained should be printed in a \n",
    "# comma-separated sequence\n",
    "\n",
    "a = []\n",
    "for i in range(100, 401):\n",
    "    s = str(i)\n",
    "    if (int(s[0])%2==0) and (int(s[1])%2==0) and (int(s[2])%2==0):\n",
    "        a.append(s)\n",
    "print( \",\".join(a))"
   ]
  },
  {
   "cell_type": "code",
   "execution_count": 20,
   "id": "2ae14d41",
   "metadata": {},
   "outputs": [
    {
     "name": "stdout",
     "output_type": "stream",
     "text": [
      "  *** \n",
      " *   *\n",
      " *   *\n",
      " *****\n",
      " *   *\n",
      " *   *\n",
      "\n"
     ]
    }
   ],
   "source": [
    "# 51. Write a Python program to print alphabet pattern 'A'.\n",
    "\n",
    "p = \"\"\n",
    "for row in range(0,6):    \n",
    "    for column in range(0,6):     \n",
    "        if (((column == 1 or column == 5) and row != 0) or ((row == 0 or row == 3) and (column > 1 and column < 5))):    \n",
    "            p = p+\"*\"    \n",
    "        else:      \n",
    "            p = p + ' '\n",
    "    p = p + '\\n'\n",
    "print(p)"
   ]
  },
  {
   "cell_type": "code",
   "execution_count": 9,
   "id": "da7cbef5",
   "metadata": {},
   "outputs": [
    {
     "name": "stdout",
     "output_type": "stream",
     "text": [
      " **** \n",
      " *   *\n",
      " *   *\n",
      " **** \n",
      " *    \n",
      " *    \n",
      "\n"
     ]
    }
   ],
   "source": [
    "# 52. Write a Python program to print alphabet pattern 'P'\n",
    "\n",
    "str=\"\"\n",
    "for Row in range(0,6):\n",
    "    for Col in range(0,6):\n",
    "        if (Col == 1 or ((Row == 0 or Row == 3) and Col > 0 and Col < 5) or ((Col == 5 or Col == 1) and (Row == 1 or Row == 2))):\n",
    "            str=str+\"*\"\n",
    "        else:\n",
    "            str=str+\" \"\n",
    "    str=str+\"\\n\"\n",
    "print(str)"
   ]
  },
  {
   "cell_type": "code",
   "execution_count": 10,
   "id": "4127c1ab",
   "metadata": {},
   "outputs": [
    {
     "data": {
      "text/plain": [
       "'Triangle is valid'"
      ]
     },
     "execution_count": 10,
     "metadata": {},
     "output_type": "execute_result"
    }
   ],
   "source": [
    "#53. Write a Python program to check a triangle is valid or not.\n",
    "\n",
    "def triangle(a,b,c):\n",
    "    if a+b>=c and b+c>=a and c+a>=b:\n",
    "        return 'Triangle is valid'\n",
    "    else:\n",
    "        return 'Triangle is not valid'\n",
    "\n",
    "triangle(5,3,6)"
   ]
  },
  {
   "cell_type": "code",
   "execution_count": 11,
   "id": "efec595e",
   "metadata": {},
   "outputs": [
    {
     "name": "stdout",
     "output_type": "stream",
     "text": [
      "Input a number: 5\n",
      "5 x 1 = 5\n",
      "5 x 2 = 10\n",
      "5 x 3 = 15\n",
      "5 x 4 = 20\n",
      "5 x 5 = 25\n",
      "5 x 6 = 30\n",
      "5 x 7 = 35\n",
      "5 x 8 = 40\n",
      "5 x 9 = 45\n",
      "5 x 10 = 50\n"
     ]
    }
   ],
   "source": [
    "#54. Write a Python program to create the multiplication table (from 1 to 10) of a number.\n",
    "\n",
    "n = int(input(\"Input a number: \"))\n",
    "\n",
    "for i in range(1,11):\n",
    "    print(n,'x',i,'=',n*i)"
   ]
  },
  {
   "cell_type": "code",
   "execution_count": 2,
   "id": "618430c1",
   "metadata": {},
   "outputs": [
    {
     "name": "stdout",
     "output_type": "stream",
     "text": [
      "1  \n",
      "2 2  \n",
      "3 3 3  \n",
      "4 4 4 4  \n",
      "5 5 5 5 5  \n",
      "6 6 6 6 6 6  \n",
      "7 7 7 7 7 7 7  \n",
      "8 8 8 8 8 8 8 8  \n",
      "9 9 9 9 9 9 9 9 9  \n"
     ]
    }
   ],
   "source": [
    "# 55. Write a Python program to construct the following pattern, using a nested loop number.\n",
    "#  1\n",
    "#  22\n",
    "#  333\n",
    "#  4444\n",
    "#  55555\n",
    "#  666666\n",
    "#  7777777\n",
    "#  88888888\n",
    "#  999999999\n",
    "\n",
    "n = 10\n",
    "for i in range(1,n):\n",
    "    for j in range(0,i,1):\n",
    "        print(i,end=\" \")\n",
    "    print(\" \")"
   ]
  },
  {
   "cell_type": "code",
   "execution_count": 5,
   "id": "4fd48ada",
   "metadata": {},
   "outputs": [
    {
     "name": "stdout",
     "output_type": "stream",
     "text": [
      "10\n"
     ]
    }
   ],
   "source": [
    "# 56. Write a Python function to find the Max of three numbers.\n",
    "\n",
    "def fun(a, b, c):\n",
    "    list = [a, b, c]\n",
    "    return max(list)\n",
    "\n",
    "print(fun(10,b=1,c=8))"
   ]
  },
  {
   "cell_type": "code",
   "execution_count": 6,
   "id": "58924fba",
   "metadata": {},
   "outputs": [
    {
     "data": {
      "text/plain": [
       "232"
      ]
     },
     "execution_count": 6,
     "metadata": {},
     "output_type": "execute_result"
    }
   ],
   "source": [
    "# 57. Write a Python function to sum all the numbers in a list\n",
    "\n",
    "l=[1,2,33,65,73,1,57]\n",
    "sum(l)\n",
    "\n",
    "# def sum(n):\n",
    "#     total = 0\n",
    "#     for i in n:\n",
    "#         total += i\n",
    "#     return total\n",
    "# print(sum((8, 2, 3, 0, 7)))"
   ]
  },
  {
   "cell_type": "code",
   "execution_count": 8,
   "id": "3dc21bb1",
   "metadata": {},
   "outputs": [
    {
     "name": "stdout",
     "output_type": "stream",
     "text": [
      "336\n"
     ]
    }
   ],
   "source": [
    "# 58. Write a Python function to multiply all the numbers in a list\n",
    "\n",
    "def mul(numbers):\n",
    "    total = 1\n",
    "    for x in numbers:\n",
    "        total = total * x\n",
    "    return total\n",
    "print(mul((8,2,3,7)))"
   ]
  },
  {
   "cell_type": "code",
   "execution_count": 9,
   "id": "305787e8",
   "metadata": {},
   "outputs": [
    {
     "name": "stdout",
     "output_type": "stream",
     "text": [
      "The quick Brown Fox\n",
      "Upper case characters :  3\n",
      "Lower case Characters :  13\n"
     ]
    }
   ],
   "source": [
    "# 59. Write a Python function that accepts a string and calculate the number of upper case letters and lower case letters.\n",
    "\n",
    "def count(s):\n",
    "    d={\"upper\":0, \"lower\":0}\n",
    "    for i in s:\n",
    "        if i.isupper():\n",
    "            d[\"upper\"]+=1\n",
    "        elif i.islower():\n",
    "            d[\"lower\"]+=1\n",
    "        else:\n",
    "            pass\n",
    "    print (s)\n",
    "    print (\"Upper case characters : \", d[\"upper\"])\n",
    "    print (\"Lower case Characters : \", d[\"lower\"])\n",
    "\n",
    "count('The quick Brown Fox')"
   ]
  },
  {
   "cell_type": "code",
   "execution_count": 10,
   "id": "c5c11df6",
   "metadata": {},
   "outputs": [
    {
     "name": "stdout",
     "output_type": "stream",
     "text": [
      "[1, 2, 3, 4, 5]\n"
     ]
    }
   ],
   "source": [
    "# 60. Write a Python function that takes a list and returns a new list with unique elements of the first list\n",
    "\n",
    "def list(l):\n",
    "    x = []\n",
    "    for i in l:\n",
    "        if i not in x:\n",
    "            x.append(i)\n",
    "    return x\n",
    "\n",
    "print(list([1,2,3,3,3,3,4,5]))"
   ]
  },
  {
   "cell_type": "code",
   "execution_count": 11,
   "id": "e40f5ba6",
   "metadata": {},
   "outputs": [
    {
     "name": "stdout",
     "output_type": "stream",
     "text": [
      "[2, 4, 6, 8, 10]\n"
     ]
    }
   ],
   "source": [
    "# 61. Write a Python program to print the even numbers from a given list\n",
    "\n",
    "l = [1,2,3,4,5,6,7,8,9,10]\n",
    "evenlis = []\n",
    "for i in l:\n",
    "    if i%2 == 0:\n",
    "        evenlis.append(i)\n",
    "print(evenlis)"
   ]
  },
  {
   "cell_type": "code",
   "execution_count": 12,
   "id": "a8e304fa",
   "metadata": {},
   "outputs": [
    {
     "data": {
      "text/plain": [
       "('121', 'String is palindrome')"
      ]
     },
     "execution_count": 12,
     "metadata": {},
     "output_type": "execute_result"
    }
   ],
   "source": [
    "# 62. Write a Python function that checks whether a passed string is palindrome or not\n",
    "\n",
    "def palindrome(s):\n",
    "    rs = s[::-1]\n",
    "    if s == rs: \n",
    "        return s ,'String is palindrome'\n",
    "    return s ,'String is not a palindrome'\n",
    "palindrome('121')"
   ]
  },
  {
   "cell_type": "code",
   "execution_count": 3,
   "id": "39f78103",
   "metadata": {},
   "outputs": [
    {
     "data": {
      "text/plain": [
       "15"
      ]
     },
     "execution_count": 3,
     "metadata": {},
     "output_type": "execute_result"
    }
   ],
   "source": [
    "# 63. Write a Python program to access a function inside a function.\n",
    "\n",
    "def fun(x):\n",
    "      def fun1(y):\n",
    "        return x+y\n",
    "      return fun1\n",
    "a = fun(5)\n",
    "a(10)"
   ]
  },
  {
   "cell_type": "code",
   "execution_count": null,
   "id": "1233852f",
   "metadata": {},
   "outputs": [],
   "source": [
    "# 64. Write a Python program to detect the number of local variables declared in a function.\n",
    "\n"
   ]
  },
  {
   "cell_type": "code",
   "execution_count": null,
   "id": "f77525ff",
   "metadata": {},
   "outputs": [],
   "source": []
  },
  {
   "cell_type": "code",
   "execution_count": null,
   "id": "b543f51e",
   "metadata": {},
   "outputs": [],
   "source": []
  },
  {
   "cell_type": "code",
   "execution_count": null,
   "id": "b83db4b5",
   "metadata": {},
   "outputs": [],
   "source": []
  },
  {
   "cell_type": "code",
   "execution_count": null,
   "id": "1c01bc1e",
   "metadata": {},
   "outputs": [],
   "source": []
  },
  {
   "cell_type": "code",
   "execution_count": null,
   "id": "10989f1c",
   "metadata": {},
   "outputs": [],
   "source": []
  },
  {
   "cell_type": "code",
   "execution_count": null,
   "id": "31f58ee2",
   "metadata": {},
   "outputs": [],
   "source": []
  },
  {
   "cell_type": "code",
   "execution_count": null,
   "id": "be50ede7",
   "metadata": {},
   "outputs": [],
   "source": []
  },
  {
   "cell_type": "code",
   "execution_count": null,
   "id": "f3e93f6e",
   "metadata": {},
   "outputs": [],
   "source": []
  },
  {
   "cell_type": "code",
   "execution_count": null,
   "id": "9872ad2a",
   "metadata": {},
   "outputs": [],
   "source": []
  }
 ],
 "metadata": {
  "kernelspec": {
   "display_name": "Python 3 (ipykernel)",
   "language": "python",
   "name": "python3"
  },
  "language_info": {
   "codemirror_mode": {
    "name": "ipython",
    "version": 3
   },
   "file_extension": ".py",
   "mimetype": "text/x-python",
   "name": "python",
   "nbconvert_exporter": "python",
   "pygments_lexer": "ipython3",
   "version": "3.10.9"
  }
 },
 "nbformat": 4,
 "nbformat_minor": 5
}
